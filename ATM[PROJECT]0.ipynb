{
  "nbformat": 4,
  "nbformat_minor": 0,
  "metadata": {
    "colab": {
      "provenance": [],
      "authorship_tag": "ABX9TyPHyK4/Ka2q6r0vAmKh1IGU",
      "include_colab_link": true
    },
    "kernelspec": {
      "name": "python3",
      "display_name": "Python 3"
    },
    "language_info": {
      "name": "python"
    }
  },
  "cells": [
    {
      "cell_type": "markdown",
      "metadata": {
        "id": "view-in-github",
        "colab_type": "text"
      },
      "source": [
        "<a href=\"https://colab.research.google.com/github/Kalyan-070/ATM-console-based-project-/blob/main/ATM%5BPROJECT%5D0.ipynb\" target=\"_parent\"><img src=\"https://colab.research.google.com/assets/colab-badge.svg\" alt=\"Open In Colab\"/></a>"
      ]
    },
    {
      "cell_type": "markdown",
      "source": [],
      "metadata": {
        "id": "xcZI1zWsTR6-"
      }
    },
    {
      "cell_type": "markdown",
      "source": [
        "ATM [ Console Based ]\n",
        "1. withdraw\n",
        "2. Deposit\n",
        "3. Pin Generation\n",
        "4. Mini statement"
      ],
      "metadata": {
        "id": "NFR5TKZcTbKD"
      }
    },
    {
      "cell_type": "code",
      "source": [
        "bank = {\n",
        "    101 : [\"Sai Kalyan\",\"0708\",10000,[24,8,2003]],\n",
        "    102 : [\"Uday\",None,20000,[23,9,2005]] ,\n",
        "    103 : [\"Nithin\",\"9876\",0,[11,1,1900]]\n",
        "}\n",
        "while True:\n",
        "  print(\"Choose the required option: \")\n",
        "  print(\"1. Withdraw\")\n",
        "  print(\"2. Deposit\")\n",
        "  print(\"3. Pin Generation\")\n",
        "  print(\"4. Mini statement\")\n",
        "  print(\"5. Exit\")\n",
        "  n = int(input())\n",
        "  if n == 1:\n",
        "    print(\"******************************\")\n",
        "    print(\"Withdraw\")\n",
        "    accno = int(input(\"Enter your account number: \"))\n",
        "    if accno not in bank:\n",
        "      print(\"Invalid Account number\")\n",
        "    else:\n",
        "      print(f\"Welcome {bank[accno][0]}\")\n",
        "      pin = input(\"Enter your Pin: \")\n",
        "      if pin != bank[accno][1]:\n",
        "        print(\"Invalid Pin\")\n",
        "      else:\n",
        "        amt = int(input(\"Enter amount to withdraw: \"))\n",
        "        if amt > bank[accno][2]:\n",
        "          print(\"Insufficient Balance\")\n",
        "        else:\n",
        "          bank[accno][2] = bank[accno][2] - amt\n",
        "          print(\"Withdraw Successfull\")\n",
        "    print(\"******************************\")\n",
        "  elif n == 2:\n",
        "    print(\"******************************\")\n",
        "    print(\"Deposit\")\n",
        "    accno = int(input(\"Enter your account number: \"))\n",
        "    if accno not in bank:\n",
        "      print(\"Invalid Account number\")\n",
        "    else:\n",
        "      print(f\"Welcome {bank[accno][0]}\")\n",
        "      pin = input(\"Enter your Pin: \")\n",
        "      if pin != bank[accno][1]:\n",
        "        print(\"Invalid Pin\")\n",
        "      else:\n",
        "        amt = int(input(\"Enter amount to Deposit: \"))\n",
        "        bank[accno][2] = bank[accno][2] + amt\n",
        "        print(\"Deposit Successfull\")\n",
        "    print(\"******************************\")\n",
        "  elif n == 3:\n",
        "    print(\"******************************\")\n",
        "    print(\"Pin Generation\")\n",
        "    accno = int(input(\"Enter your account number: \"))\n",
        "    if accno not in bank:\n",
        "      print(\"Invalid Account number\")\n",
        "    else:\n",
        "      print(f\"Welcome {bank[accno][0]}\")\n",
        "      if bank[accno][1] != None:\n",
        "        print(\"Pin already generated\")\n",
        "      else:\n",
        "        print(\"Verify Date of Birth: \")\n",
        "        date = int(input(\"Enter Birth Date: \"))\n",
        "        month = int(input(\"Enter Birth Month: \"))\n",
        "        year = int(input(\"Enter Birth Year: \"))\n",
        "        if date == bank[accno][3][0] and month == bank[accno][3][1] and year == bank[accno][3][2]:\n",
        "          pin = input(\"Enter your new Pin:\")\n",
        "          cpin = input(\"Confirm your Pin: \")\n",
        "          if pin != cpin:\n",
        "            print(\"Incorrect pin entered, try again\")\n",
        "          else:\n",
        "            bank[accno][1] = pin\n",
        "            print(\"Pin Generated Sucessfully !\")\n",
        "        else:\n",
        "          print(\"Incorrect Date of Birth Details\")\n",
        "          print(\"Try again !\")\n",
        "    print(\"******************************\")\n",
        "  elif n == 4:\n",
        "    print(\"******************************\")\n",
        "    print(\"Mini statement\")\n",
        "    accno = int(input(\"Enter your account number: \"))\n",
        "    if accno not in bank:\n",
        "      print(\"Invalid Account number\")\n",
        "    else:\n",
        "      print(f\"Welcome {bank[accno][0]}\")\n",
        "      pin = input(\"Enter Your Pin: \")\n",
        "      if pin != bank[accno][1]:\n",
        "        print(\"Invalid Pin\")\n",
        "      else:\n",
        "        print(f\"Balance: {bank[accno][2]}\")\n",
        "    print(\"******************************\")\n",
        "  else:\n",
        "    print(\"******************************\")\n",
        "    print(\"thank You\")\n",
        "    print(\"visit again\")\n",
        "    print(\"******************************\")\n",
        "    break"
      ],
      "metadata": {
        "colab": {
          "base_uri": "https://localhost:8080/"
        },
        "id": "Bgosf18yTi5-",
        "outputId": "d4b0bf32-e9e0-4545-bb1d-9c89569d7292"
      },
      "execution_count": null,
      "outputs": [
        {
          "output_type": "stream",
          "name": "stdout",
          "text": [
            "Choose the required option: \n",
            "1. Withdraw\n",
            "2. Deposit\n",
            "3. Pin Generation\n",
            "4. Mini statement\n",
            "5. Exit\n",
            "2\n",
            "******************************\n",
            "Deposit\n",
            "Enter your account number: 103\n",
            "Welcome vignesh\n",
            "Enter your Pin: 9876\n",
            "Enter amount to Deposit: 10000\n",
            "Deposit Successfull\n",
            "******************************\n",
            "Choose the required option: \n",
            "1. Withdraw\n",
            "2. Deposit\n",
            "3. Pin Generation\n",
            "4. Mini statement\n",
            "5. Exit\n",
            "2\n",
            "******************************\n",
            "Deposit\n",
            "Enter your account number: 103\n",
            "Welcome vignesh\n",
            "Enter your Pin: 9876\n",
            "Enter amount to Deposit: 10000\n",
            "Deposit Successfull\n",
            "******************************\n",
            "Choose the required option: \n",
            "1. Withdraw\n",
            "2. Deposit\n",
            "3. Pin Generation\n",
            "4. Mini statement\n",
            "5. Exit\n"
          ]
        }
      ]
    }
  ]
}